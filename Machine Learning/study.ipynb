{
 "cells": [
  {
   "cell_type": "code",
   "execution_count": 14,
   "metadata": {},
   "outputs": [],
   "source": [
    "import subprocess\n",
    "import numpy as np\n",
    "import re"
   ]
  },
  {
   "cell_type": "markdown",
   "metadata": {},
   "source": [
    "J'ai seuelement effectué pour l'abre de décision, régression linéaire et random forest"
   ]
  },
  {
   "cell_type": "code",
   "execution_count": 15,
   "metadata": {},
   "outputs": [],
   "source": [
    "def get_output(r_script = \"reg.R\"):\n",
    "    process = subprocess.Popen([\"Rscript\", r_script], stdout=subprocess.PIPE, stderr=subprocess.PIPE, text=True)\n",
    "    stdout, stderr = process.communicate()\n",
    "    output = stdout.strip().split(\"\\n\")\n",
    "    #print(stderr)\n",
    "    return output"
   ]
  },
  {
   "cell_type": "code",
   "execution_count": 16,
   "metadata": {},
   "outputs": [],
   "source": [
    "percentage_times_attribute_appears = 0.5"
   ]
  },
  {
   "cell_type": "code",
   "execution_count": 17,
   "metadata": {},
   "outputs": [],
   "source": [
    "def random_forest(times = 1):\n",
    "    attributes_boot = []\n",
    "    error_rate_boot = []\n",
    "\n",
    "    for b in range(times):\n",
    "        output = get_output(r_script = \"random_2.R\")\n",
    "        error_rate_boot.append(float(output[-1][4:]))\n",
    "        \n",
    "        top_fetaures_to_keep = 5\n",
    "        for i in range(0, top_fetaures_to_keep*2, 2):\n",
    "            attribute = output[i].strip()\n",
    "            #print(attribute)\n",
    "            attributes_boot.append(attribute)\n",
    "\n",
    "    attributes_keep = []\n",
    "    for attribute in set(attributes_boot):\n",
    "        if(attributes_boot.count(attribute)/times>percentage_times_attribute_appears):\n",
    "            attributes_keep.append(attribute)\n",
    "\n",
    "    attributes_keep.sort()\n",
    "    return np.array(error_rate_boot).mean(), attributes_keep\n",
    "\n",
    "#random_forest(0)"
   ]
  },
  {
   "cell_type": "code",
   "execution_count": 18,
   "metadata": {},
   "outputs": [],
   "source": [
    "def cart(times = 1):\n",
    "    attributes_boot = []\n",
    "    error_rate_boot = []\n",
    "\n",
    "    for b in range(times):\n",
    "        output = get_output(r_script = \"cart_2.R\")\n",
    "        error_rate_boot.append(float(output[-1][4:]))\n",
    "        temp = []\n",
    "        for match in re.finditer(r'\\d+\\) (\\w+)(<|>)', '\\n'.join(output)):\n",
    "            temp.append(match.group(1))\n",
    "        temp = list(set(temp))\n",
    "        attributes_boot+=temp\n",
    "\n",
    "        \n",
    "    attributes_keep = []\n",
    "    for attribute in set(attributes_boot):\n",
    "        if(attributes_boot.count(attribute)/times>percentage_times_attribute_appears):\n",
    "            attributes_keep.append(attribute)\n",
    "\n",
    "    attributes_keep.sort()\n",
    "    return np.array(error_rate_boot).mean(), attributes_keep\n",
    "\n",
    "#error_rate, attributes = cart(0)"
   ]
  },
  {
   "cell_type": "code",
   "execution_count": 19,
   "metadata": {},
   "outputs": [],
   "source": [
    "def regression(times = 0):\n",
    "    attributes_boot = []\n",
    "    error_rate_boot = []\n",
    "\n",
    "    for b in range(times):\n",
    "        output = get_output(r_script = \"reg_2.R\")\n",
    "        for i in range(0, len(output), 2):\n",
    "            try:\n",
    "                attribute = output[i].strip()\n",
    "                pval = float(output[i+1].strip())\n",
    "                if(pval<0.05 and attribute!='(Intercept)'):\n",
    "                    attributes_boot.append(attribute)\n",
    "                    #print(attribute, pval)\n",
    "            except:\n",
    "                error_rate = float(output[i].strip())\n",
    "                error_rate_boot.append(error_rate)\n",
    "\n",
    "    attributes_keep = []\n",
    "    for attribute in set(attributes_boot):\n",
    "        if(attributes_boot.count(attribute)/times>percentage_times_attribute_appears):\n",
    "            attributes_keep.append(attribute)\n",
    "\n",
    "    attributes_keep.sort()\n",
    "    return np.array(error_rate_boot).mean(), attributes_keep"
   ]
  },
  {
   "cell_type": "code",
   "execution_count": 20,
   "metadata": {},
   "outputs": [],
   "source": [
    "times = 200\n",
    "_, regression_attributes = regression(times)\n",
    "_, cart_attributes = cart(times)\n",
    "_, random_forest_attributes = random_forest(times)\n"
   ]
  },
  {
   "cell_type": "markdown",
   "metadata": {},
   "source": [
    "## Results of best attributes"
   ]
  },
  {
   "cell_type": "code",
   "execution_count": 21,
   "metadata": {},
   "outputs": [
    {
     "name": "stdout",
     "output_type": "stream",
     "text": [
      "regression_attributes ['Input_number_similarity', 'Output_number_similarity', 'Output_type_jaccard', 'Rule_name_levenshtein', 'Shell_tools_categories_bioweb_jaccard', 'Shell_tools_description_biotools_levenshtein', 'Shell_tools_description_biotools_no_white_space_levenshtein', 'Shell_tools_function_biotools_jaccard', 'Shell_tools_operations_bioweb_jaccard', 'Shell_tools_topics_biotools_jaccard']\n",
      "cart_attributes ['Conda_name_before_extension_levenshtein', 'Conda_no_white_spaces_cosine', 'Extracted_raw_rules_levenshtein', 'Input_number_similarity', 'Input_type_jaccard', 'Output_type_jaccard', 'Raw_rules_no_white_spaces_cosine', 'Raw_rules_no_white_spaces_levenshtein', 'Rule_name_levenshtein', 'Shell_tools_categories_bioweb_jaccard', 'Shell_tools_description_biotools_cosine', 'Shell_tools_description_biotools_levenshtein', 'Shell_tools_description_biotools_no_white_space_cosine', 'Shell_tools_description_bioweb_cosine', 'Shell_tools_description_bioweb_levenshtein', 'Shell_tools_topics_biotools_jaccard', 'Tools_in_shell_jaccard', 'Whole_text_shell_cosine', 'Whole_text_shell_levenshtein']\n",
      "random_forest_attributes ['Output_type_jaccard', 'Raw_rules_cosine', 'Raw_rules_no_white_spaces_cosine', 'Rule_name_levenshtein', 'Whole_text_shell_cosine']\n"
     ]
    }
   ],
   "source": [
    "print(\"regression_attributes\", regression_attributes)\n",
    "print(\"cart_attributes\", cart_attributes)\n",
    "print(\"random_forest_attributes\", random_forest_attributes)\n"
   ]
  },
  {
   "cell_type": "code",
   "execution_count": 22,
   "metadata": {},
   "outputs": [
    {
     "data": {
      "text/plain": [
       "['Output_type_jaccard', 'Rule_name_levenshtein']"
      ]
     },
     "execution_count": 22,
     "metadata": {},
     "output_type": "execute_result"
    }
   ],
   "source": [
    "def find_common_elements_at_least_3(list1, list2, list3):\n",
    "    # Use set intersection to find common elements\n",
    "    common_elements = set(list1) & set(list2) & set(list3)\n",
    "    \n",
    "    # Convert the set back to a list\n",
    "    common_elements_list = list(common_elements)\n",
    "    \n",
    "    return common_elements_list\n",
    "\n",
    "\n",
    "def find_common_elements_at_least_2(list1, list2, list3):\n",
    "    # Use set intersection to find common elements\n",
    "    common_elements = list(set(list1) & set(list2))\n",
    "    common_elements += list(set(list1) & set(list3))\n",
    "    common_elements += list(set(list2) & set(list3))    \n",
    "    # Convert the set back to a list\n",
    "    common_elements_list = list(set(common_elements))\n",
    "    \n",
    "    return common_elements_list\n",
    "\n",
    "find_common_elements_at_least_3(regression_attributes, cart_attributes, random_forest_attributes)"
   ]
  },
  {
   "cell_type": "code",
   "execution_count": 23,
   "metadata": {},
   "outputs": [],
   "source": [
    "results = {}\n",
    "times = 200\n",
    "\n",
    "results[\"reg\"] = {}\n",
    "results[\"cart\"] = {}\n",
    "results[\"random\"] = {}\n",
    "\n",
    "results[\"reg\"]['ER'] = []\n",
    "results[\"reg\"]['sensitivity_binary'] = []\n",
    "\n",
    "results[\"cart\"]['ER'] = []\n",
    "results[\"cart\"]['sensitivity_D'] = []\n",
    "results[\"cart\"]['sensitivity_SS'] = []\n",
    "results[\"cart\"]['sensitivity_S'] = []\n",
    "results[\"cart\"]['sensitivity_VS'] = []\n",
    "\n",
    "results[\"random\"]['ER'] = []\n",
    "results[\"random\"]['sensitivity_D'] = []\n",
    "results[\"random\"]['sensitivity_SS'] = []\n",
    "results[\"random\"]['sensitivity_S'] = []\n",
    "results[\"random\"]['sensitivity_VS'] = []\n",
    "\n",
    "for i in range(times):\n",
    "    process = subprocess.Popen([\"Rscript\", \"test_2.R\"] + find_common_elements_at_least_3(regression_attributes, cart_attributes, random_forest_attributes), stdout=subprocess.PIPE, stderr=subprocess.PIPE, text=True)\n",
    "    stdout, stderr = process.communicate()\n",
    "    for match in re.finditer(r\"(\\w+) +(\\w+) +(\\d(\\.\\d+)?)\", stdout):\n",
    "        model = match.group(1)\n",
    "        stat = match.group(2)\n",
    "        val = float(match.group(3))\n",
    "        results[model][stat].append(val)\n",
    "      "
   ]
  },
  {
   "cell_type": "markdown",
   "metadata": {},
   "source": [
    "## Error rate and sensitivity"
   ]
  },
  {
   "cell_type": "code",
   "execution_count": 24,
   "metadata": {},
   "outputs": [
    {
     "name": "stdout",
     "output_type": "stream",
     "text": [
      "reg\n",
      "- ER 40.61%\n",
      "- sensitivity_binary 77.55%\n",
      "\n",
      "cart\n",
      "- ER 26.32%\n",
      "- sensitivity_D 82.23%\n",
      "- sensitivity_SS 46.73%\n",
      "- sensitivity_S 68.89%\n",
      "- sensitivity_VS 97.03%\n",
      "\n",
      "random\n",
      "- ER 31.33%\n",
      "- sensitivity_D 93.43%\n",
      "- sensitivity_SS 28.93%\n",
      "- sensitivity_S 54.78%\n",
      "- sensitivity_VS 97.79%\n",
      "\n"
     ]
    }
   ],
   "source": [
    "for model in results:\n",
    "    print(model)\n",
    "    for stat in results[model]:\n",
    "        print(f\"- {stat} {np.array(results[model][stat]).mean()*100:.2f}%\")\n",
    "    print()"
   ]
  },
  {
   "cell_type": "code",
   "execution_count": null,
   "metadata": {},
   "outputs": [],
   "source": []
  }
 ],
 "metadata": {
  "kernelspec": {
   "display_name": "Python 3",
   "language": "python",
   "name": "python3"
  },
  "language_info": {
   "codemirror_mode": {
    "name": "ipython",
    "version": 3
   },
   "file_extension": ".py",
   "mimetype": "text/x-python",
   "name": "python",
   "nbconvert_exporter": "python",
   "pygments_lexer": "ipython3",
   "version": "3.12.0"
  },
  "orig_nbformat": 4
 },
 "nbformat": 4,
 "nbformat_minor": 2
}
