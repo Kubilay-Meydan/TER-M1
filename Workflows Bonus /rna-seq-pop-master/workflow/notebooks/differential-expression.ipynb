{
 "cells": [
  {
   "cell_type": "code",
   "execution_count": 2,
   "id": "88c07f4c",
   "metadata": {
    "tags": [
     "remove-input"
    ]
   },
   "outputs": [],
   "source": [
    "#!/usr/bin/env python3\n",
    "\n",
    "\"\"\"\n",
    "A script to perform GSEA on DE and FST data\n",
    "\"\"\"\n",
    "import pandas as pd\n",
    "import numpy as np"
   ]
  },
  {
   "cell_type": "code",
   "execution_count": null,
   "id": "288b4a94",
   "metadata": {
    "tags": [
     "remove-input",
     "parameters"
    ]
   },
   "outputs": [],
   "source": [
    "dataset = \"\"\n",
    "wkdir = \"\""
   ]
  },
  {
   "cell_type": "markdown",
   "id": "84d63861",
   "metadata": {},
   "source": [
    "# Differential expression\n",
    "\n",
    "**Output Directories:** <span style=\"color:gray;font-weight:bold\">*results/genediff/*,    *results/isoformdiff/*</span>\n",
    "\n",
    "**Rules**  \n",
    "\n",
    "<span style=\"color:gray;font-weight:bold\">\n",
    "\n",
    "* *diffexp.smk*\n",
    "    * DifferentialGeneExpression\n",
    "    * DifferentialIsoformExpression\n",
    "    * ProgressiveGenes\n",
    "    \n",
    "</span>    \n",
    "    \n",
    "**Introduction** \n",
    "\n",
    "Differential expression analysis for RNA-sequencing is a statistical method used to identify genes or transcripts that show significantly different levels of expression between two or more biological conditions. This can provide insight into the underlying biological mechanisms that drive a particular phenotype and can be used to identify potential causative genes and diagnostic targets.\n",
    "\n",
    "One important aspect of differential expression analysis for RNA-sequencing data is the choice of level at which to perform the analysis. Differential expression can be performed at the gene level, in which case the expression levels of entire genes are compared between the different conditions, or at the isoform level, in which case the expression levels of individual transcript isoforms are compared.\n",
    "\n",
    "*RNA-Seq-Pop* will perform differential expression at the gene-level with [DESeq2](https://bioconductor.org/packages/DESeq2/) and at the isoform level with [sleuth](https://pachterlab.github.io/sleuth/about)."
   ]
  },
  {
   "cell_type": "markdown",
   "id": "a1d94904",
   "metadata": {},
   "source": [
    "## Results\n",
    "\n",
    "#### Number of significantly differentially expressed genes"
   ]
  },
  {
   "cell_type": "code",
   "execution_count": 3,
   "id": "f3900ebf",
   "metadata": {
    "tags": [
     "remove-input"
    ]
   },
   "outputs": [],
   "source": [
    "nsig = pd.read_csv(\"results/genediff/nsig_genes.tsv\", sep=\"\\t\")\n",
    "nsig"
   ]
  },
  {
   "cell_type": "markdown",
   "id": "72d71b2a",
   "metadata": {},
   "source": [
    "#### Differential expression data"
   ]
  },
  {
   "cell_type": "code",
   "execution_count": null,
   "id": "f9db6802",
   "metadata": {
    "tags": [
     "remove-input"
    ]
   },
   "outputs": [],
   "source": [
    "from IPython.display import display, Markdown\n",
    "display(Markdown(f'<a href={wkdir}/results/genediff/{dataset}_diffexp.xlsx>DESeq2 differential gene expression results (.xslx)</a>'))\n",
    "display(Markdown(f'<a href={wkdir}/results/isoformdiff/{dataset}_isoformdiffexp.xlsx>DESeq2 differential isoform expression results (.xlsx)</a>'))"
   ]
  }
 ],
 "metadata": {
  "kernelspec": {
   "display_name": "Python 3 (ipykernel)",
   "language": "python",
   "name": "python3"
  },
  "language_info": {
   "codemirror_mode": {
    "name": "ipython",
    "version": 3
   },
   "file_extension": ".py",
   "mimetype": "text/x-python",
   "name": "python",
   "nbconvert_exporter": "python",
   "pygments_lexer": "ipython3",
   "version": "3.10.10"
  }
 },
 "nbformat": 4,
 "nbformat_minor": 5
}
