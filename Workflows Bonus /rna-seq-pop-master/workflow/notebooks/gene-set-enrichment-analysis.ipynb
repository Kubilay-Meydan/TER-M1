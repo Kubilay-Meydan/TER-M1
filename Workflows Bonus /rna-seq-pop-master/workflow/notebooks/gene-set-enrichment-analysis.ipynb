{
 "cells": [
  {
   "cell_type": "code",
   "execution_count": null,
   "id": "ea04b0af",
   "metadata": {
    "tags": [
     "remove-input"
    ]
   },
   "outputs": [],
   "source": [
    "#!/usr/bin/env python3\n",
    "\n",
    "\"\"\"\n",
    "A script to perform GSEA on DE and FST data\n",
    "\"\"\"\n",
    "import pandas as pd\n",
    "import numpy as np"
   ]
  },
  {
   "cell_type": "code",
   "execution_count": null,
   "id": "fe571f38",
   "metadata": {
    "tags": [
     "parameters",
     "remove-input"
    ]
   },
   "outputs": [],
   "source": [
    "###### configuration - metadata and parameters ######\n",
    "selection = \"\"\n",
    "config_path = \"\"\n",
    "comparisons = \"\"\n",
    "go_path = \"\""
   ]
  },
  {
   "cell_type": "code",
   "execution_count": null,
   "id": "2dc20146",
   "metadata": {
    "tags": [
     "remove-input",
     "remove-output"
    ]
   },
   "outputs": [],
   "source": [
    "import yaml\n",
    "with open(config_path) as params_file:\n",
    "    config_params = yaml.safe_load(params_file)\n",
    "\n",
    "comparisons = config_params[\"contrasts\"]\n",
    "comparisons = pd.DataFrame(comparisons, columns=['contrast'])\n",
    "\n",
    "def load_go_descriptions():\n",
    "    import urllib.request\n",
    "    ids = []\n",
    "    descriptions = []\n",
    "    with urllib.request.urlopen(\"http://current.geneontology.org/ontology/go.obo\") as url:\n",
    "        for line in url:\n",
    "            if line.startswith(b\"id\"):\n",
    "                value = line.lstrip(b\"id: \").rstrip(b\"\\n\")\n",
    "                if value.startswith(b\"GO\"):\n",
    "                    ids.append(value)\n",
    "                    descriptions.append(next(url, '').lstrip(b\"name:\").lstrip().rstrip(b\"\\n\"))\n",
    "    return(pd.DataFrame({'go_term': [go.decode('utf8') for go in ids], 'descriptions':[desc.decode('utf8') for desc in descriptions]}))\n",
    "\n",
    "def go_hypergeometric(target_gene_list, gaf_df):\n",
    "    \n",
    "    # load gene annotation file \n",
    "    go_annotations = gaf_df[['go_term', 'descriptions']].rename(columns={'go_term':'annotation'}).drop_duplicates()\n",
    "    gaf_df = gaf_df[['GeneID', 'go_term']].drop_duplicates()\n",
    "    N = gaf_df.GeneID.unique().shape[0] #Total number of genes with some annotation \n",
    "    k = np.isin(gaf_df.loc[:, 'GeneID'].unique(), target_gene_list).sum() \n",
    "  \n",
    "    hyper_geo = _hypergeometric(\n",
    "      annotation_df=gaf_df, \n",
    "      column_name='go_term', \n",
    "      target_gene_list=target_gene_list,\n",
    "      N=N,\n",
    "      k=k)    \n",
    "    hyper_geo = hyper_geo.merge(go_annotations, how='left')\n",
    "    return(hyper_geo)\n",
    "\n",
    "def _hypergeometric(annotation_df, column_name, target_gene_list, N, k):\n",
    "    from scipy.stats import hypergeom\n",
    "    from statsmodels.stats.multitest import fdrcorrection\n",
    "    from tqdm import tqdm\n",
    "\n",
    "    sig_list = []\n",
    "    res_list = []\n",
    "    unique_annots = annotation_df.loc[:, column_name].unique()\n",
    "    for annot in tqdm(unique_annots):\n",
    "\n",
    "        annot_genes = annotation_df.query(\"{col} == @annot\".format(col=column_name))['GeneID']\n",
    "        m = len(annot_genes)\n",
    "        x = annot_genes.isin(target_gene_list).sum()\n",
    "        # scipy hypergeom \n",
    "        res = hypergeom(M=N, \n",
    "                        n=m, \n",
    "                        N=k).sf(x-1)\n",
    "        sig_list.append(annot)\n",
    "        res_list.append(res)    \n",
    "\n",
    "    hyper_geo = pd.DataFrame({'annotation': sig_list, 'pval':res_list})\n",
    "    hypo, hyper_geo.loc[:, 'padj'] =  fdrcorrection(hyper_geo['pval'])    \n",
    "    return(hyper_geo.sort_values(by='padj'))\n",
    "    \n",
    "\n",
    "# load gene annotation files and descriptions\n",
    "gaf_df = pd.read_csv(go_path, sep=\"\\t\")\n",
    "if len(gaf_df.columns) < 3:\n",
    "    gaf_df = gaf_df.reset_index()\n",
    "gaf_df = gaf_df.iloc[:, [1,4]]\n",
    "gaf_df.columns = ['GeneID', 'go_term']\n",
    "\n",
    "go_desc_df = load_go_descriptions()\n",
    "gaf_df = gaf_df.merge(go_desc_df, how='left')\n",
    "\n",
    "# load differential expression data and perform hypergeometric test\n",
    "for comp in comparisons['contrast']:\n",
    "    de_data = pd.read_csv(f\"results/genediff/{comp}.csv\")\n",
    "    sig_genes = de_data.query(\"padj < 0.05 and FC > 2\")['GeneID']\n",
    "    \n",
    "    gsea_df = go_hypergeometric(sig_genes, gaf_df)\n",
    "    gsea_df.to_csv(f\"results/gsea/genediff/{comp}.de.tsv\", sep=\"\\t\")\n",
    "    \n",
    "    if selection:\n",
    "        fst_data = pd.read_csv(f\"results/variantAnalysis/selection/FstPerGene.tsv\", sep=\"\\t\")\n",
    "        fst_comp_df = fst_data.loc[:, ['GeneID', f'{comp}_zFst']].sort_values(by=f'{comp}_zFst', ascending=False).dropna()\n",
    "        n_genes = fst_comp_df.shape[0]\n",
    "        percentile_5 = int(n_genes* 0.05) #5th percentile\n",
    "        fst_genes = fst_comp_df.iloc[:percentile_5].loc[:,'GeneID'].to_numpy()\n",
    "        gsea_fst_df = go_hypergeometric(fst_genes, gaf_df)\n",
    "        gsea_fst_df.to_csv(f\"results/gsea/fst/{comp}.fst.tsv\", sep=\"\\t\")\n",
    "        "
   ]
  },
  {
   "cell_type": "markdown",
   "id": "1a09b698",
   "metadata": {},
   "source": [
    "# Gene set enrichment analysis\n",
    "\n",
    "**Output Directory:**  <span style=\"color:gray;font-weight:bold\">*results/gsea/*</span>\n",
    "\n",
    "**Rules**  \n",
    "\n",
    "<span style=\"color:gray;font-weight:bold\">\n",
    "\n",
    "* *diffexp.smk*\n",
    "    * GeneSetEnrichment\n",
    "\n",
    "</span>\n",
    "    \n",
    "**Introduction** \n",
    "\n",
    "Gene set enrichment analysis (GSEA) is a computational method used to identify and interpret patterns of gene expression in high-throughput data. It is often used to determine whether a particular group of genes is enriched for genes that are differentially expressed in a particular phenotype, such as insecticide resistance. GSEA helps researchers to identify pathways or biological processes that are associated with a particular condition, and can provide insight into the underlying mechanisms that drive the condition. GSEA is a powerful tool for uncovering new biological insights and can be used to guide further experimental research.\n",
    "\n",
    "In *RNA-Seq-Pop*, we can use GSEA to test whether specific gene ontology (GO) terms are enriched in our differential expression and Fst data. This requires a GO annotation file (.gaf) for your study organism, for vectors these can be located at [Vectorbase](https://vectorbase.org/vectorbase/app) under [data downloads](https://vectorbase.org/vectorbase/app/downloads/). \n",
    "\n",
    "\n",
    "**Results**"
   ]
  },
  {
   "cell_type": "code",
   "execution_count": null,
   "id": "a6c483eb",
   "metadata": {
    "tags": [
     "remove-input"
    ]
   },
   "outputs": [],
   "source": [
    "pd.set_option(\"display.max_rows\", None, \"display.max_columns\", None)\n",
    "gsea_df"
   ]
  }
 ],
 "metadata": {
  "celltoolbar": "Tags",
  "kernelspec": {
   "display_name": "Python 3 (ipykernel)",
   "language": "python",
   "name": "python3"
  },
  "language_info": {
   "codemirror_mode": {
    "name": "ipython",
    "version": 3
   },
   "file_extension": ".py",
   "mimetype": "text/x-python",
   "name": "python",
   "nbconvert_exporter": "python",
   "pygments_lexer": "ipython3",
   "version": "3.10.10"
  }
 },
 "nbformat": 4,
 "nbformat_minor": 5
}
