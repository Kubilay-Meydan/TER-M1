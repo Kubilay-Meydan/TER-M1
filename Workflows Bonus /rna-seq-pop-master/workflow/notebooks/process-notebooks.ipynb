{
 "cells": [
  {
   "cell_type": "code",
   "execution_count": 2,
   "metadata": {},
   "outputs": [],
   "source": [
    "import json"
   ]
  },
  {
   "cell_type": "code",
   "execution_count": 1,
   "metadata": {
    "tags": [
     "parameters"
    ]
   },
   "outputs": [],
   "source": [
    "wkdir = \"\""
   ]
  },
  {
   "cell_type": "code",
   "execution_count": 15,
   "metadata": {},
   "outputs": [],
   "source": [
    "def add_remove_input_tag(input_nb, output_nb, cell_idx_to_change=2):\n",
    "\n",
    "    with open(input_nb, mode= \"r\", encoding= \"utf-8\") as f:\n",
    "        my_nb = json.loads(f.read())\n",
    "\n",
    "    my_nb['cells'][cell_idx_to_change]['metadata']['tags'] = ['remove-input']\n",
    "    \n",
    "    with open(output_nb, 'w') as f:\n",
    "        json.dump(my_nb, f)"
   ]
  },
  {
   "cell_type": "markdown",
   "metadata": {},
   "source": [
    "## Add headers"
   ]
  },
  {
   "cell_type": "code",
   "execution_count": 6,
   "metadata": {},
   "outputs": [],
   "source": [
    "import glob\n",
    "\n",
    "input_nbs = glob.glob(f\"{wkdir}/docs/rna-seq-pop-results/notebooks/*ipynb\")\n",
    "input_nbs"
   ]
  },
  {
   "cell_type": "code",
   "execution_count": null,
   "metadata": {},
   "outputs": [],
   "source": [
    "for nb in input_nbs:\n",
    "    add_remove_input_tag(\n",
    "    input_nb = nb,\n",
    "    output_nb = nb,\n",
    ")"
   ]
  }
 ],
 "metadata": {
  "celltoolbar": "Tags",
  "kernelspec": {
   "display_name": "Python 3 (ipykernel)",
   "language": "python",
   "name": "python3"
  },
  "language_info": {
   "codemirror_mode": {
    "name": "ipython",
    "version": 3
   },
   "file_extension": ".py",
   "mimetype": "text/x-python",
   "name": "python",
   "nbconvert_exporter": "python",
   "pygments_lexer": "ipython3",
   "version": "3.10.10"
  }
 },
 "nbformat": 4,
 "nbformat_minor": 2
}
